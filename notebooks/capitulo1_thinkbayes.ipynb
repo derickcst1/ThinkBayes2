{
 "cells": [
  {
   "cell_type": "markdown",
   "id": "9771cd24",
   "metadata": {},
   "source": [
    "download or load the data file:"
   ]
  },
  {
   "cell_type": "code",
   "execution_count": 16,
   "id": "c47cf8d0",
   "metadata": {},
   "outputs": [],
   "source": [
    "from os.path import basename, exists\n",
    "\n",
    "def download(url):\n",
    "    filename = basename(url)\n",
    "    if not exists(filename):\n",
    "        from urllib.request import urlretrieve\n",
    "        local, _ = urlretrieve(url, filename)\n",
    "        print('Downloaded ' + local)\n",
    "    \n",
    "download('https://github.com/AllenDowney/BiteSizeBayes/raw/master/gss_bayes.csv')"
   ]
  },
  {
   "cell_type": "markdown",
   "id": "eae67ee3",
   "metadata": {},
   "source": [
    "I'll use Pandas to read the data and store it in a `DataFrame`."
   ]
  },
  {
   "cell_type": "code",
   "execution_count": 17,
   "id": "81381e3a",
   "metadata": {},
   "outputs": [
    {
     "data": {
      "text/html": [
       "<div>\n",
       "<style scoped>\n",
       "    .dataframe tbody tr th:only-of-type {\n",
       "        vertical-align: middle;\n",
       "    }\n",
       "\n",
       "    .dataframe tbody tr th {\n",
       "        vertical-align: top;\n",
       "    }\n",
       "\n",
       "    .dataframe thead th {\n",
       "        text-align: right;\n",
       "    }\n",
       "</style>\n",
       "<table border=\"1\" class=\"dataframe\">\n",
       "  <thead>\n",
       "    <tr style=\"text-align: right;\">\n",
       "      <th></th>\n",
       "      <th>year</th>\n",
       "      <th>age</th>\n",
       "      <th>sex</th>\n",
       "      <th>polviews</th>\n",
       "      <th>partyid</th>\n",
       "      <th>indus10</th>\n",
       "    </tr>\n",
       "    <tr>\n",
       "      <th>caseid</th>\n",
       "      <th></th>\n",
       "      <th></th>\n",
       "      <th></th>\n",
       "      <th></th>\n",
       "      <th></th>\n",
       "      <th></th>\n",
       "    </tr>\n",
       "  </thead>\n",
       "  <tbody>\n",
       "    <tr>\n",
       "      <th>1</th>\n",
       "      <td>1974</td>\n",
       "      <td>21.0</td>\n",
       "      <td>1</td>\n",
       "      <td>4.0</td>\n",
       "      <td>2.0</td>\n",
       "      <td>4970.0</td>\n",
       "    </tr>\n",
       "    <tr>\n",
       "      <th>2</th>\n",
       "      <td>1974</td>\n",
       "      <td>41.0</td>\n",
       "      <td>1</td>\n",
       "      <td>5.0</td>\n",
       "      <td>0.0</td>\n",
       "      <td>9160.0</td>\n",
       "    </tr>\n",
       "    <tr>\n",
       "      <th>5</th>\n",
       "      <td>1974</td>\n",
       "      <td>58.0</td>\n",
       "      <td>2</td>\n",
       "      <td>6.0</td>\n",
       "      <td>1.0</td>\n",
       "      <td>2670.0</td>\n",
       "    </tr>\n",
       "    <tr>\n",
       "      <th>6</th>\n",
       "      <td>1974</td>\n",
       "      <td>30.0</td>\n",
       "      <td>1</td>\n",
       "      <td>5.0</td>\n",
       "      <td>4.0</td>\n",
       "      <td>6870.0</td>\n",
       "    </tr>\n",
       "    <tr>\n",
       "      <th>7</th>\n",
       "      <td>1974</td>\n",
       "      <td>48.0</td>\n",
       "      <td>1</td>\n",
       "      <td>5.0</td>\n",
       "      <td>4.0</td>\n",
       "      <td>7860.0</td>\n",
       "    </tr>\n",
       "  </tbody>\n",
       "</table>\n",
       "</div>"
      ],
      "text/plain": [
       "        year   age  sex  polviews  partyid  indus10\n",
       "caseid                                             \n",
       "1       1974  21.0    1       4.0      2.0   4970.0\n",
       "2       1974  41.0    1       5.0      0.0   9160.0\n",
       "5       1974  58.0    2       6.0      1.0   2670.0\n",
       "6       1974  30.0    1       5.0      4.0   6870.0\n",
       "7       1974  48.0    1       5.0      4.0   7860.0"
      ]
     },
     "execution_count": 17,
     "metadata": {},
     "output_type": "execute_result"
    }
   ],
   "source": [
    "import pandas as pd\n",
    "\n",
    "gss = pd.read_csv('gss_bayes.csv', index_col=0)\n",
    "gss.head()"
   ]
  },
  {
   "cell_type": "markdown",
   "id": "d9441061",
   "metadata": {},
   "source": [
    "The DataFrame has one row for each person surveyed and one column for each variable I selected.\n",
    "\n",
    "The columns are:\n",
    "\n",
    "   `caseid`: Respondent id (which is the index of the table).\n",
    "\n",
    "   `year`: Year when the respondent was surveyed.\n",
    "\n",
    "   `age`: Respondent's age when surveyed.\n",
    "\n",
    "   `sex`: Male or female.\n",
    "\n",
    "   `polviews`: Political views on a range from liberal to conservative.\n",
    "\n",
    "   `partyid`: Political party affiliation, Democrat, Independent, or Republican.\n",
    "\n",
    "   `indus10`: Code for the industry the respondent works in.\n",
    "\n",
    "Let's look at these variables in more detail, starting with indus10.\n"
   ]
  },
  {
   "cell_type": "markdown",
   "id": "bed653f7",
   "metadata": {},
   "source": [
    "## Fraction of Bankers\n",
    "\n",
    "The code for \"Banking and related activities\" is 6870, so we can select bankers like this:"
   ]
  },
  {
   "cell_type": "code",
   "execution_count": 18,
   "id": "1c034407",
   "metadata": {},
   "outputs": [
    {
     "data": {
      "text/plain": [
       "caseid\n",
       "1    False\n",
       "2    False\n",
       "5    False\n",
       "6     True\n",
       "7    False\n",
       "Name: indus10, dtype: bool"
      ]
     },
     "execution_count": 18,
     "metadata": {},
     "output_type": "execute_result"
    }
   ],
   "source": [
    "banker = (gss['indus10'] == 6870)\n",
    "banker.head()"
   ]
  },
  {
   "cell_type": "markdown",
   "id": "a63d12b9",
   "metadata": {},
   "source": [
    "The result is a Pandas Series that contains the Boolean values True and False.\n",
    "\n",
    "If we use the sum function on this Series, it treats True as 1 and False as 0, so the total is the number of bankers.\n"
   ]
  },
  {
   "cell_type": "code",
   "execution_count": 19,
   "id": "d7f8f7c4",
   "metadata": {},
   "outputs": [
    {
     "data": {
      "text/plain": [
       "728"
      ]
     },
     "execution_count": 19,
     "metadata": {},
     "output_type": "execute_result"
    }
   ],
   "source": [
    "banker.sum()"
   ]
  },
  {
   "cell_type": "markdown",
   "id": "b7eab6d0",
   "metadata": {},
   "source": [
    "In this dataset, there are 728 bankers.\n",
    "\n",
    "To compute the *fraction* of bankers, we can use the `mean` function, which computes the fraction of `True` values in the `Series`:"
   ]
  },
  {
   "cell_type": "code",
   "execution_count": 20,
   "id": "36f518d3",
   "metadata": {},
   "outputs": [
    {
     "data": {
      "text/plain": [
       "0.014769730168391155"
      ]
     },
     "execution_count": 20,
     "metadata": {},
     "output_type": "execute_result"
    }
   ],
   "source": [
    "banker.mean()"
   ]
  },
  {
   "cell_type": "markdown",
   "id": "5e882dc3",
   "metadata": {},
   "source": [
    "Now we can make this function that takes a Boolean series and returns a probability:"
   ]
  },
  {
   "cell_type": "code",
   "execution_count": 21,
   "id": "b729887e",
   "metadata": {},
   "outputs": [],
   "source": [
    "def prob(A):\n",
    "    \"\"\"Computes the probability of a proposition, A.\"\"\"    \n",
    "    return A.mean()"
   ]
  },
  {
   "cell_type": "markdown",
   "id": "95f592cd",
   "metadata": {},
   "source": [
    "## Conditional Probability\n",
    "\n",
    "Conditional probability is a probability that depends on a condition, but that might not be the most helpful definition.  Here are some examples:\n",
    "\n",
    "* What is the probability that a respondent is a Democrat, given that they are liberal?\n",
    "\n",
    "* What is the probability that a respondent is female, given that they are a banker?\n",
    "\n",
    "* What is the probability that a respondent is liberal, given that they are female?\n",
    "\n",
    "Let's start with the first one, which we can interpret like this: \"Of all the respondents who are liberal, what fraction are Democrats?\"\n",
    "\n",
    "We can compute this probability in two steps:\n",
    "\n",
    "1. Select all respondents who are liberal.\n",
    "\n",
    "2. Compute the fraction of the selected respondents who are Democrats.\n",
    "\n",
    "To select liberal respondents, we can use the bracket operator, `[]`, like this:"
   ]
  },
  {
   "cell_type": "code",
   "execution_count": 22,
   "id": "ae15fc56",
   "metadata": {},
   "outputs": [],
   "source": [
    "def conditional(proposition, given):\n",
    "    \"\"\"Probability of all respondents who are \"propositions\", what fraction are \"given\"?\"\"\"\n",
    "    return prob(proposition[given])"
   ]
  },
  {
   "cell_type": "markdown",
   "id": "61f2cf64",
   "metadata": {},
   "source": [
    "Now let's look at another variable in this dataset.\n",
    "The values of the column `sex` are encoded like this:\n",
    "\n",
    "```\n",
    "1    Male\n",
    "2    Female\n",
    "```\n",
    "\n",
    "So we can make a Boolean series that is `True` for female respondents and `False` otherwise."
   ]
  },
  {
   "cell_type": "markdown",
   "id": "8c5a9186",
   "metadata": {},
   "source": [
    "takes a Boolean series and returns a probability:"
   ]
  },
  {
   "cell_type": "code",
   "execution_count": 23,
   "id": "3e465588",
   "metadata": {
    "execution": {
     "iopub.execute_input": "2021-04-16T19:35:09.133453Z",
     "iopub.status.busy": "2021-04-16T19:35:09.132833Z",
     "iopub.status.idle": "2021-04-16T19:35:09.135227Z",
     "shell.execute_reply": "2021-04-16T19:35:09.134787Z"
    }
   },
   "outputs": [],
   "source": [
    "female = (gss['sex'] == 2)"
   ]
  },
  {
   "cell_type": "markdown",
   "id": "5ef3d865",
   "metadata": {},
   "source": [
    "And use it to compute the fraction of respondents who are women."
   ]
  },
  {
   "cell_type": "code",
   "execution_count": 24,
   "id": "435f4d4e",
   "metadata": {},
   "outputs": [
    {
     "data": {
      "text/plain": [
       "0.5378575776019476"
      ]
     },
     "execution_count": 24,
     "metadata": {},
     "output_type": "execute_result"
    }
   ],
   "source": [
    "prob(female)"
   ]
  },
  {
   "cell_type": "markdown",
   "id": "2808e1df",
   "metadata": {},
   "source": [
    "## Political Views and Parties\n",
    "\n",
    "The other variables we'll consider are `polviews`, which describes the political views of the respondents, and `partyid`, which describes their affiliation with a political party.\n",
    "\n",
    "The values of `polviews` are on a seven-point scale:\n",
    "\n",
    "```\n",
    "1\tExtremely liberal\n",
    "2\tLiberal\n",
    "3\tSlightly liberal\n",
    "4\tModerate\n",
    "5\tSlightly conservative\n",
    "6\tConservative\n",
    "7\tExtremely conservative\n",
    "```\n",
    "\n",
    "I'll define `liberal` to be `True` for anyone whose response is \"Extremely liberal\", \"Liberal\", or \"Slightly liberal\"."
   ]
  },
  {
   "cell_type": "code",
   "execution_count": 27,
   "id": "cd0138ec",
   "metadata": {
    "execution": {
     "iopub.execute_input": "2021-04-16T19:35:09.144820Z",
     "iopub.status.busy": "2021-04-16T19:35:09.144315Z",
     "iopub.status.idle": "2021-04-16T19:35:09.146158Z",
     "shell.execute_reply": "2021-04-16T19:35:09.146493Z"
    }
   },
   "outputs": [],
   "source": [
    "liberal = (gss['polviews'] <= 3)"
   ]
  },
  {
   "cell_type": "markdown",
   "id": "c215c202",
   "metadata": {},
   "source": [
    "The values of `partyid` are encoded like this:\n",
    "\n",
    "```\n",
    "0\tStrong democrat\n",
    "1\tNot strong democrat\n",
    "2\tIndependent, near democrat\n",
    "3\tIndependent\n",
    "4\tIndependent, near republican\n",
    "5\tNot strong republican\n",
    "6\tStrong republican\n",
    "7\tOther party\n",
    "```\n",
    "\n",
    "I'll define `democrat` to include respondents who chose \"Strong democrat\" or \"Not strong democrat\":"
   ]
  },
  {
   "cell_type": "code",
   "execution_count": 36,
   "id": "5b888179",
   "metadata": {
    "execution": {
     "iopub.execute_input": "2021-04-16T19:35:09.156357Z",
     "iopub.status.busy": "2021-04-16T19:35:09.155780Z",
     "iopub.status.idle": "2021-04-16T19:35:09.158246Z",
     "shell.execute_reply": "2021-04-16T19:35:09.157752Z"
    }
   },
   "outputs": [],
   "source": [
    "democrat = (gss['partyid'] <= 1)"
   ]
  },
  {
   "cell_type": "markdown",
   "id": "b73b0845",
   "metadata": {},
   "source": [
    "**Exercise:** Let's use the tools in this chapter to solve a variation of the Linda problem.\n",
    "\n",
    "> Linda is 31 years old, single, outspoken, and very bright. She majored in philosophy. As a student, she was deeply concerned with issues of discrimination and social justice, and also participated in anti-nuclear demonstrations.  Which is more probable?\n",
    "> 1. Linda is a banker.\n",
    "> 2. Linda is a banker and considers herself a liberal Democrat.\n",
    "\n",
    "To answer this question, compute \n",
    "\n",
    "* The probability that Linda is a female banker,\n",
    "\n",
    "* The probability that Linda is a liberal female banker, and\n",
    "\n",
    "* The probability that Linda is a liberal female banker and a Democrat."
   ]
  },
  {
   "cell_type": "code",
   "execution_count": 33,
   "id": "9bb0fba8",
   "metadata": {},
   "outputs": [
    {
     "data": {
      "text/plain": [
       "0.02116102749801969"
      ]
     },
     "execution_count": 33,
     "metadata": {},
     "output_type": "execute_result"
    }
   ],
   "source": [
    "conditional(banker, given=female)"
   ]
  },
  {
   "cell_type": "markdown",
   "id": "866a9eb3",
   "metadata": {},
   "source": [
    "## Conjunction\n",
    "\n",
    "Now that we have a definition of probability and a function that computes it, let's move on to conjunction.\n",
    "\n",
    "\"Conjunction\" is another name for the logical `and` operation.  If you have two [propositions](https://en.wikipedia.org/wiki/Proposition), `A` and `B`, the conjunction `A and B` is `True` if both `A` and `B` are `True`, and `False` otherwise.\n",
    "\n",
    "If we have two Boolean series, we can use the `&` operator to compute their conjunction.\n",
    "For example, we have already computed the probability that a respondent is a female liberal given that is a banker."
   ]
  },
  {
   "cell_type": "code",
   "execution_count": 34,
   "id": "70fb5578",
   "metadata": {
    "scrolled": true
   },
   "outputs": [
    {
     "data": {
      "text/plain": [
       "0.004752744143940251"
      ]
     },
     "execution_count": 34,
     "metadata": {},
     "output_type": "execute_result"
    }
   ],
   "source": [
    "conditional(liberal & banker, given=female)"
   ]
  },
  {
   "cell_type": "code",
   "execution_count": 37,
   "id": "450aa2c5",
   "metadata": {},
   "outputs": [
    {
     "data": {
      "text/plain": [
       "0.0023009316887329786"
      ]
     },
     "execution_count": 37,
     "metadata": {},
     "output_type": "execute_result"
    }
   ],
   "source": [
    "conditional(liberal & banker & democrat, given=female)"
   ]
  },
  {
   "cell_type": "code",
   "execution_count": null,
   "id": "ee28ade5",
   "metadata": {},
   "outputs": [],
   "source": []
  }
 ],
 "metadata": {
  "kernelspec": {
   "display_name": "Python 3 (ipykernel)",
   "language": "python",
   "name": "python3"
  },
  "language_info": {
   "codemirror_mode": {
    "name": "ipython",
    "version": 3
   },
   "file_extension": ".py",
   "mimetype": "text/x-python",
   "name": "python",
   "nbconvert_exporter": "python",
   "pygments_lexer": "ipython3",
   "version": "3.10.8"
  }
 },
 "nbformat": 4,
 "nbformat_minor": 5
}
